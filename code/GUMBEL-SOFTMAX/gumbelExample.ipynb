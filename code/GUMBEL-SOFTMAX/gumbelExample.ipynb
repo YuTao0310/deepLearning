{
 "cells": [
  {
   "cell_type": "code",
   "execution_count": 1,
   "metadata": {},
   "outputs": [
    {
     "data": {
      "image/png": "[encoded data removed]",
      "text/plain": [
       "<Figure size 432x288 with 1 Axes>"
      ]
     },
     "metadata": {
      "needs_background": "light"
     },
     "output_type": "display_data"
    }
   ],
   "source": [
    "from scipy.optimize import curve_fit\n",
    "import numpy as np\n",
    "import matplotlib.pyplot as plt\n",
    "mean_hunger = 5\n",
    "samples_per_day = 100\n",
    "n_days = 10000\n",
    "samples = np.random.normal(loc=mean_hunger, size=(n_days, samples_per_day))\n",
    "daily_maxes = np.max(samples, axis=1)\n",
    "\n",
    "def gumbel_pdf(prob,loc,scale):\n",
    "    z = (prob-loc)/scale\n",
    "    return np.exp(-z-np.exp(-z))/scale\n",
    "\n",
    "def plot_maxes(daily_maxes):\n",
    "    probs,hungers,_=plt.hist(daily_maxes,density=True,bins=100)\n",
    "    plt.xlabel('Volume')\n",
    "    plt.ylabel('Probability of Volume being daily maximum')\n",
    "    (loc,scale),_=curve_fit(gumbel_pdf,hungers[:-1],probs)\n",
    "    #curve_fit用于曲线拟合\n",
    "    #接受需要拟合的函数（函数的第一个参数是输入，后面的是要拟合的函数的参数）、输入数据、输出数据\n",
    "    #返回的是函数需要拟合的参数\n",
    "    # https://blog.csdn.net/guduruyu/article/details/70313176\n",
    "    plt.plot(hungers,gumbel_pdf(hungers,loc,scale))\n",
    "    \n",
    "\n",
    "\n",
    "plt.figure()\n",
    "plot_maxes(daily_maxes)"
   ]
  },
  {
   "cell_type": "code",
   "execution_count": 2,
   "metadata": {},
   "outputs": [
    {
     "data": {
      "text/plain": [
       "[<matplotlib.lines.Line2D at 0x1d7f3350e80>]"
      ]
     },
     "execution_count": 2,
     "metadata": {},
     "output_type": "execute_result"
    },
    {
     "data": {
      "image/png": "[encoded data removed]",
      "text/plain": [
       "<Figure size 432x288 with 1 Axes>"
      ]
     },
     "metadata": {
      "needs_background": "light"
     },
     "output_type": "display_data"
    }
   ],
   "source": [
    "import numpy as np\n",
    "import matplotlib.pyplot as plt\n",
    "\n",
    "x = np.arange(0, 5, 0.1)\n",
    "y = np.sin(x)\n",
    "plt.plot(x, y)"
   ]
  },
  {
   "cell_type": "code",
   "execution_count": null,
   "metadata": {},
   "outputs": [],
   "source": [
    "n_cats = 7\n",
    "cats = np.arange(n_cats)\n",
    "probs = np.random.randint(low=1, high=20, size=n_cats)\n",
    "probs = probs / sum(probs)\n",
    "logits = np.log(probs)\n",
    "def plot_probs():\n",
    "    plt.bar(cats, probs)\n",
    "    plt.xlabel(\"Category\")\n",
    "    plt.ylabel(\"Probability\")\n",
    "plt.figure()\n",
    "plot_probs()\n"
   ]
  },
  {
   "cell_type": "code",
   "execution_count": null,
   "metadata": {},
   "outputs": [],
   "source": [
    "year = 2016\n",
    "event = 'Referendum'\n",
    "print(f'Results of the {year} {event}')\n"
   ]
  },
  {
   "cell_type": "code",
   "execution_count": null,
   "metadata": {},
   "outputs": [],
   "source": [
    "yes_votes = 42_572_654\n",
    "no_votes = 43_132_495\n",
    "percentage = yes_votes /(yes_votes + no_votes)\n",
    "'{:-8} YES votes {:2.2%}'.format(yes_votes, percentage)\n"
   ]
  },
  {
   "cell_type": "code",
   "execution_count": null,
   "metadata": {},
   "outputs": [],
   "source": [
    "a = [1.1, 2.2, 3.3]\n",
    "'-'.join(['{:.2f}']*len(a)).format(*a)\n",
    "# https://blog.csdn.net/BabyFish13/article/details/80223038,\n",
    "# https://docs.python.org/3/tutorial/inputoutput.html\n",
    "# format传入list需要加*，传入dict需要加**"
   ]
  },
  {
   "cell_type": "code",
   "execution_count": null,
   "metadata": {},
   "outputs": [],
   "source": [
    "np.arange(n_cats+1)"
   ]
  },
  {
   "cell_type": "code",
   "execution_count": null,
   "metadata": {},
   "outputs": [],
   "source": [
    "n_samples = 1000\n",
    "def plot_estimated_probs(samples,ylabel=''):\n",
    "    n_cats = np.max(samples)+1\n",
    "    estd_probs,_,_ = plt.hist(samples,bins=np.arange(n_cats+1),align='left',edgecolor='white',density=True)\n",
    "    plt.xlabel('Category')\n",
    "    plt.ylabel(ylabel+'Estimated probability')\n",
    "    return estd_probs\n",
    "def print_probs(probs):\n",
    "    print('  '.join(['{:.2f}']*len(probs)).format(*probs))\n",
    "\n",
    "samples = np.random.choice(cats,p=probs,size=n_samples) \n",
    "\n",
    "plt.figure()\n",
    "plt.subplot(1,2,1)\n",
    "plot_probs()\n",
    "plt.subplot(1,2,2)\n",
    "estd_probs = plot_estimated_probs(samples)\n",
    "plt.tight_layout()#紧凑显示图片\n",
    "\n",
    "print('Original probabilities:\\t\\t',end='')\n",
    "print_probs(probs)\n",
    "print('Estimated probabilities:\\t',end='')\n",
    "print_probs(estd_probs)"
   ]
  },
  {
   "cell_type": "code",
   "execution_count": null,
   "metadata": {},
   "outputs": [],
   "source": [
    "def sample_gumbel(logits):\n",
    "    noise = np.random.gumbel(size=len(logits))\n",
    "    sample = np.argmax(logits+noise)\n",
    "    return sample\n",
    "gumbel_samples = [sample_gumbel(logits) for _ in range(n_samples)] # 这个是gumbel-max策略而不是gumbel-softmax策略\n",
    "\n",
    "def sample_uniform(logits):\n",
    "    noise = np.random.uniform(size=len(logits))\n",
    "    sample = np.argmax(logits+noise)\n",
    "    return sample\n",
    "uniform_samples = [sample_uniform(logits) for _ in range(n_samples)]\n",
    "\n",
    "def sample_normal(logits):\n",
    "    noise = np.random.normal(size=len(logits))\n",
    "    sample = np.argmax(logits+noise)\n",
    "    return sample\n",
    "normal_samples = [sample_normal(logits) for _ in range(n_samples)]\n",
    "\n",
    "plt.figure(figsize=(16,4))\n",
    "plt.subplot(1,4,1)\n",
    "plot_probs()\n",
    "plt.subplot(1,4,2)\n",
    "gumbel_estd_probs = plot_estimated_probs(gumbel_samples,'Gumbel ')\n",
    "plt.subplot(1,4,3)\n",
    "normal_estd_probs = plot_estimated_probs(normal_samples,'Normal ')\n",
    "plt.subplot(1,4,4)\n",
    "uniform_estd_probs = plot_estimated_probs(uniform_samples,'Uniform ')\n",
    "plt.tight_layout()\n",
    "\n",
    "print('Original probabilities:\\t\\t',end='')\n",
    "print_probs(probs)\n",
    "print('Gumbel Estimated probabilities:\\t',end='')\n",
    "print_probs(gumbel_estd_probs)\n",
    "print('Normal Estimated probabilities:\\t',end='')\n",
    "print_probs(normal_estd_probs)\n",
    "print('Uniform Estimated probabilities:',end='')\n",
    "print_probs(uniform_estd_probs)"
   ]
  }
 ],
 "metadata": {
  "interpreter": {
   "hash": "cf151ee0d5d4bd6519c08d7976dcef72e9a178a9dc773adc57d522f57ddd0fc2"
  },
  "kernelspec": {
   "display_name": "Python 3.8.0 64-bit ('py38': conda)",
   "name": "python3"
  },
  "language_info": {
   "codemirror_mode": {
    "name": "ipython",
    "version": 3
   },
   "file_extension": ".py",
   "mimetype": "text/x-python",
   "name": "python",
   "nbconvert_exporter": "python",
   "pygments_lexer": "ipython3",
   "version": "3.8.0"
  },
  "orig_nbformat": 4
 },
 "nbformat": 4,
 "nbformat_minor": 2
}
