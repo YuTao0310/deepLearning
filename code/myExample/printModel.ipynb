{
 "cells": [
  {
   "cell_type": "code",
   "execution_count": null,
   "metadata": {},
   "outputs": [],
   "source": [
    "for name, param in model.named_parameters():\n",
    "    print(name)\n",
    "    print(param.data)\n",
    "    print(\"requires_grad:\", param.requires_grad)\n",
    "    print(\"-----------------------------------\")"
   ]
  },
  {
   "cell_type": "code",
   "execution_count": null,
   "metadata": {},
   "outputs": [],
   "source": [
    "print(model)"
   ]
  },
  {
   "cell_type": "code",
   "execution_count": null,
   "metadata": {},
   "outputs": [],
   "source": [
    "model.eval()"
   ]
  },
  {
   "cell_type": "code",
   "execution_count": 1,
   "metadata": {},
   "outputs": [
    {
     "ename": "NameError",
     "evalue": "name 'nn' is not defined",
     "output_type": "error",
     "traceback": [
      "\u001b[1;31m---------------------------------------------------------------------------\u001b[0m",
      "\u001b[1;31mNameError\u001b[0m                                 Traceback (most recent call last)",
      "\u001b[1;32mc:\\Users\\28439\\Desktop\\deepLearning\\code\\myExample\\printModel.ipynb Cell 4'\u001b[0m in \u001b[0;36m<cell line: 2>\u001b[1;34m()\u001b[0m\n\u001b[0;32m      <a href='vscode-notebook-cell:/c%3A/Users/28439/Desktop/deepLearning/code/myExample/printModel.ipynb#ch0000003?line=0'>1</a>\u001b[0m \u001b[39mfrom\u001b[39;00m \u001b[39mtorchsummary\u001b[39;00m \u001b[39mimport\u001b[39;00m summary\n\u001b[1;32m----> <a href='vscode-notebook-cell:/c%3A/Users/28439/Desktop/deepLearning/code/myExample/printModel.ipynb#ch0000003?line=1'>2</a>\u001b[0m net \u001b[39m=\u001b[39m nn\u001b[39m.\u001b[39mSequential(\n\u001b[0;32m      <a href='vscode-notebook-cell:/c%3A/Users/28439/Desktop/deepLearning/code/myExample/printModel.ipynb#ch0000003?line=2'>3</a>\u001b[0m             nn\u001b[39m.\u001b[39mConv2d(\u001b[39m1\u001b[39m,\u001b[39m8\u001b[39m,kernel_size\u001b[39m=\u001b[39m\u001b[39m7\u001b[39m),\n\u001b[0;32m      <a href='vscode-notebook-cell:/c%3A/Users/28439/Desktop/deepLearning/code/myExample/printModel.ipynb#ch0000003?line=3'>4</a>\u001b[0m             nn\u001b[39m.\u001b[39mMaxPool2d(\u001b[39m2\u001b[39m,stride\u001b[39m=\u001b[39m\u001b[39m2\u001b[39m),\n\u001b[0;32m      <a href='vscode-notebook-cell:/c%3A/Users/28439/Desktop/deepLearning/code/myExample/printModel.ipynb#ch0000003?line=4'>5</a>\u001b[0m             nn\u001b[39m.\u001b[39mReLU(\u001b[39mTrue\u001b[39;00m),\n\u001b[0;32m      <a href='vscode-notebook-cell:/c%3A/Users/28439/Desktop/deepLearning/code/myExample/printModel.ipynb#ch0000003?line=5'>6</a>\u001b[0m             nn\u001b[39m.\u001b[39mConv2d(\u001b[39m8\u001b[39m,\u001b[39m10\u001b[39m,kernel_size\u001b[39m=\u001b[39m\u001b[39m5\u001b[39m),\n\u001b[0;32m      <a href='vscode-notebook-cell:/c%3A/Users/28439/Desktop/deepLearning/code/myExample/printModel.ipynb#ch0000003?line=6'>7</a>\u001b[0m             nn\u001b[39m.\u001b[39mMaxPool2d(\u001b[39m2\u001b[39m,stride\u001b[39m=\u001b[39m\u001b[39m2\u001b[39m),\n\u001b[0;32m      <a href='vscode-notebook-cell:/c%3A/Users/28439/Desktop/deepLearning/code/myExample/printModel.ipynb#ch0000003?line=7'>8</a>\u001b[0m             nn\u001b[39m.\u001b[39mReLU(\u001b[39mTrue\u001b[39;00m)\n\u001b[0;32m      <a href='vscode-notebook-cell:/c%3A/Users/28439/Desktop/deepLearning/code/myExample/printModel.ipynb#ch0000003?line=8'>9</a>\u001b[0m         )\n\u001b[0;32m     <a href='vscode-notebook-cell:/c%3A/Users/28439/Desktop/deepLearning/code/myExample/printModel.ipynb#ch0000003?line=10'>11</a>\u001b[0m \u001b[39m#输出每层网络参数信息\u001b[39;00m\n\u001b[0;32m     <a href='vscode-notebook-cell:/c%3A/Users/28439/Desktop/deepLearning/code/myExample/printModel.ipynb#ch0000003?line=11'>12</a>\u001b[0m summary(net,(\u001b[39m1\u001b[39m,\u001b[39m255\u001b[39m,\u001b[39m255\u001b[39m),batch_size\u001b[39m=\u001b[39m\u001b[39m1\u001b[39m,device\u001b[39m=\u001b[39m\u001b[39m\"\u001b[39m\u001b[39mcpu\u001b[39m\u001b[39m\"\u001b[39m)\n",
      "\u001b[1;31mNameError\u001b[0m: name 'nn' is not defined"
     ]
    }
   ],
   "source": [
    "from torchsummary import summary\n",
    "net = nn.Sequential(\n",
    "            nn.Conv2d(1,8,kernel_size=7),\n",
    "            nn.MaxPool2d(2,stride=2),\n",
    "            nn.ReLU(True),\n",
    "            nn.Conv2d(8,10,kernel_size=5),\n",
    "            nn.MaxPool2d(2,stride=2),\n",
    "            nn.ReLU(True)\n",
    "        )\n",
    "\n",
    "#输出每层网络参数信息\n",
    "summary(net,(1,28,28),batch_size=1,device=\"cpu\")"
   ]
  }
 ],
 "metadata": {
  "interpreter": {
   "hash": "762fff96f4c04e20e008c9acb01c7a4611226589715685870ef0501c914751af"
  },
  "kernelspec": {
   "display_name": "Python 3.8.1 ('pdd')",
   "language": "python",
   "name": "python3"
  },
  "language_info": {
   "codemirror_mode": {
    "name": "ipython",
    "version": 3
   },
   "file_extension": ".py",
   "mimetype": "text/x-python",
   "name": "python",
   "nbconvert_exporter": "python",
   "pygments_lexer": "ipython3",
   "version": "3.8.1"
  },
  "orig_nbformat": 4
 },
 "nbformat": 4,
 "nbformat_minor": 2
}
